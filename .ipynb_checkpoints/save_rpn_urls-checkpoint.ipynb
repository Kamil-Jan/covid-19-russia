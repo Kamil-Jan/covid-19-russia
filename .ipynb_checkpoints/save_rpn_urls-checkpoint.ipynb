{
 "cells": [
  {
   "cell_type": "code",
   "execution_count": 1,
   "metadata": {},
   "outputs": [],
   "source": [
    "# Import used modules\n",
    "import bs4       # used for extracting elements from html text\n",
    "import requests  # used for getting html text from website\n",
    "import re"
   ]
  },
  {
   "cell_type": "code",
   "execution_count": 2,
   "metadata": {},
   "outputs": [],
   "source": [
    "url_base = \"https://www.rospotrebnadzor.ru\"\n",
    "search_url_suffix = \"/about/info/news/?PAGEN_1=\"\n",
    "search_query = \"О подтвержденных случаях новой коронавирусной инфекции COVID-2019 в России\""
   ]
  },
  {
   "cell_type": "code",
   "execution_count": 3,
   "metadata": {},
   "outputs": [],
   "source": [
    "file = open(\"rpn_url.txt\", \"w\")"
   ]
  },
  {
   "cell_type": "code",
   "execution_count": 4,
   "metadata": {},
   "outputs": [
    {
     "name": "stdout",
     "output_type": "stream",
     "text": [
      "Done! 70\n"
     ]
    }
   ],
   "source": [
    "page_num = 1\n",
    "found_links_num = 0\n",
    "while True:\n",
    "    res = requests.get(url_base + search_url_suffix + str(page_num))\n",
    "    res.raise_for_status()\n",
    "    soup = bs4.BeautifulSoup(res.text, \"html.parser\")\n",
    "    \n",
    "    news_page = soup.find(\"div\", {\"class\": \"rightmain980\"})\n",
    "    actual_page_num = int(soup.find(\"li\", {\"class\": \"selected\"}).text)\n",
    "    \n",
    "    print(\"Page:\", actual_page_num, end=\"\\r\")\n",
    "    news_links = news_page.find_all(\"a\")\n",
    "    for news_link in news_links:\n",
    "        link_text = news_link.text\n",
    "        link_text = re.sub(\"^\\s+\", \"\", link_text)\n",
    "        if link_text == search_query:\n",
    "            file.write(url_base + news_link.get(\"href\") + \"\\n\")\n",
    "            found_links_num += 1\n",
    "\n",
    "    if found_links_num == 0:\n",
    "        break\n",
    "\n",
    "    found_links_num = 0\n",
    "    page_num += 1\n",
    "\n",
    "file.close()\n",
    "print(\"Done!\")"
   ]
  }
 ],
 "metadata": {
  "kernelspec": {
   "display_name": "Python 3",
   "language": "python",
   "name": "python3"
  },
  "language_info": {
   "codemirror_mode": {
    "name": "ipython",
    "version": 3
   },
   "file_extension": ".py",
   "mimetype": "text/x-python",
   "name": "python",
   "nbconvert_exporter": "python",
   "pygments_lexer": "ipython3",
   "version": "3.8.3"
  }
 },
 "nbformat": 4,
 "nbformat_minor": 4
}
