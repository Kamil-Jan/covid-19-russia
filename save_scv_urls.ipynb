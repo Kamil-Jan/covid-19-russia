{
 "cells": [
  {
   "cell_type": "code",
   "execution_count": 1,
   "metadata": {},
   "outputs": [],
   "source": [
    "import requests\n",
    "import bs4\n",
    "import re"
   ]
  },
  {
   "cell_type": "code",
   "execution_count": 2,
   "metadata": {},
   "outputs": [],
   "source": [
    "base_url = \"https://стопкоронавирус.рф/news/\"\n",
    "url = base_url + \"?tags=28&page=\"\n",
    "search_query = \"Оперативный штаб озвучил статистику по заболеваемости новой коронавирусной инфекцией в России\""
   ]
  },
  {
   "cell_type": "code",
   "execution_count": 3,
   "metadata": {},
   "outputs": [
    {
     "name": "stdout",
     "output_type": "stream",
     "text": [
      "Done! 36\n"
     ]
    }
   ],
   "source": [
    "page = 1\n",
    "file = open(\"scv_url.txt\", \"w\", encoding=\"utf-8\")\n",
    "count = 0\n",
    "while True:\n",
    "    print(f\"Page: {page}\", end=\"\\r\")\n",
    "\n",
    "    res = requests.get(url + str(page))\n",
    "    res.raise_for_status()\n",
    "    soup = bs4.BeautifulSoup(res.text, \"html.parser\")\n",
    "    news_data = soup.find(\"div\", {\"class\": \"cv-news-page__news-list-inner\"})\n",
    "    news_items = news_data.find_all(\"div\", {\"class\": \"cv-news-page__news-list-item\"})\n",
    "\n",
    "    for news in news_items:\n",
    "        news_name = re.sub(r\"\\s(на)\\s(\\d+)\\s(\\w+)(\\r\\n)*\", \"\", news.h2.text)\n",
    "        if news_name.startswith(\"Опер\"):\n",
    "            if news.a.get(\"href\") == \"20200426-1200.html\":\n",
    "                break\n",
    "            count += 1\n",
    "            file.write(base_url + news.a.get(\"href\") + \"\\n\")\n",
    "\n",
    "    if count == 0:\n",
    "        break\n",
    "\n",
    "    count = 0\n",
    "    page += 1\n",
    "\n",
    "file.write(\"https://стопкоронавирус.рф/news/20201022-1040.html\\n\")\n",
    "file.write(\"https://стопкоронавирус.рф/news/20201201-1100.html\\n\")\n",
    "file.write(\"https://стопкоронавирус.рф/news/20201205-1103.html\\n\")\n",
    "file.close()\n",
    "print(\"Done!\")"
   ]
  }
 ],
 "metadata": {
  "kernelspec": {
   "display_name": "Python 3",
   "language": "python",
   "name": "python3"
  },
  "language_info": {
   "codemirror_mode": {
    "name": "ipython",
    "version": 3
   },
   "file_extension": ".py",
   "mimetype": "text/x-python",
   "name": "python",
   "nbconvert_exporter": "python",
   "pygments_lexer": "ipython3",
   "version": "3.8.3"
  }
 },
 "nbformat": 4,
 "nbformat_minor": 4
}
